{
  "cells": [
    {
      "cell_type": "markdown",
      "metadata": {
        "id": "view-in-github",
        "colab_type": "text"
      },
      "source": [
        "<a href=\"https://colab.research.google.com/github/moayuisuda/colab-files/blob/main/webUI_for_colab.ipynb\" target=\"_parent\"><img src=\"https://colab.research.google.com/assets/colab-badge.svg\" alt=\"Open In Colab\"/></a>"
      ]
    },
    {
      "cell_type": "markdown",
      "metadata": {
        "id": "NisxCLOjOZ8F"
      },
      "source": [
        "# Music-Source-Separation-Training-Inference-Webui For Google Colab\n",
        "\n",
        "LICENSE: AGPL-3.0\n",
        "\n",
        "For personal entertainment and non-commercial use only. Prohibited from use in content related to blood, gore, violence, sex, politics.<br>\n",
        "Author: [Github@KitsuneX07](https://github.com/KitsuneX07) | [Github@SUC-DriverOld](https://github.com/SUC-DriverOld) | Gradio theme: [Gradio Theme](https://huggingface.co/spaces/NoCrypt/miku)<br>\n",
        "Github: [https://github.com/SUC-DriverOld/MSST-WebUI](https://github.com/SUC-DriverOld/MSST-WebUI)\n",
        "\n",
        "## Introduction\n",
        "\n",
        "This is a webUI for [Music-Source-Separation-Training (MSST)](https://github.com/ZFTurbo/Music-Source-Separation-Training), which is a repository for training models for music source separation. You can use this webUI to infer the MSST model and VR Models, and the preset process page allows you to customize the processing flow yourself. You can install models in the \"Install Models\" interface. If you have downloaded [Ultimate Vocal Remover (UVR)](https://github.com/Anjok07/ultimatevocalremovergui) before, you do not need to download VR Models again. You can go to the \"Settings\" page and directly select your UVR5 model folder. We also provide some convenient tools in the WebUI such as [Singing-Oriented MIDI Extractor (SOME)](https://github.com/openvpi/SOME/), advanced ensemble mode, and more."
      ]
    },
    {
      "cell_type": "code",
      "execution_count": null,
      "metadata": {
        "id": "20sp7wTyOZ8G"
      },
      "outputs": [],
      "source": [
        "#@title Connect to colab runtime and check GPU\n",
        "#@markdown # Connect to colab runtime and check GPU\n",
        "#@markdown\n",
        "\n",
        "!nvidia-smi"
      ]
    },
    {
      "cell_type": "code",
      "execution_count": null,
      "metadata": {
        "id": "Xo3mkjDrOZ8H"
      },
      "outputs": [],
      "source": [
        "#@title Install python 3.10, ffmpeg\n",
        "#@markdown # Install python 3.10, ffmpeg\n",
        "#@markdown\n",
        "\n",
        "!sudo apt install python3.10\n",
        "!sudo apt install ffmpeg"
      ]
    },
    {
      "cell_type": "code",
      "execution_count": null,
      "metadata": {
        "id": "x_oWc61tOZ8H"
      },
      "outputs": [],
      "source": [
        "#@title Clone repository and install requirements\n",
        "#@markdown # Clone repository and install requirements\n",
        "#@markdown\n",
        "#@markdown ### You may need to rerun this cell for a few times\n",
        "#@markdown\n",
        "\n",
        "# Clone the repository\n",
        "%cd /content\n",
        "!git clone https://github.com/SUC-DriverOld/MSST-WebUI.git\n",
        "%cd /content/MSST-WebUI\n",
        "\n",
        "# Upgrade pip and setuptools\n",
        "%pip install --upgrade pip setuptools\n",
        "\n",
        "# Install torch and other requirements\n",
        "%pip install torch torchvision torchaudio --index-url https://download.pytorch.org/whl/cu121\n",
        "%pip install tools/webUI_for_clouds/librosa-0.9.2-py3-none-any.whl\n",
        "%pip install -r requirements.txt --only-binary=samplerate"
      ]
    },
    {
      "cell_type": "code",
      "execution_count": null,
      "metadata": {
        "id": "xaXIHyyjOZ8H"
      },
      "outputs": [],
      "source": [
        "#@title [Optional] Download SOME weights if needed\n",
        "#@markdown # Download SOME weights if needed\n",
        "#@markdown\n",
        "#@markdown ### If you want to use \"Vocals to MIDI\", download the weights.\n",
        "#@markdown\n",
        "#@markdown ### \"Vocals to MIDI\" use project: [SOME](https://github.com/openvpi/SOME/).\n",
        "#@markdown\n",
        "\n",
        "!wget https://huggingface.co/Sucial/MSST-WebUI/resolve/main/SOME_weights/model_steps_64000_simplified.ckpt -O /content/MSST-WebUI/tools/SOME_weights/model_steps_64000_simplified.ckpt"
      ]
    },
    {
      "cell_type": "code",
      "execution_count": null,
      "metadata": {
        "id": "L76kkDQAOZ8H"
      },
      "outputs": [],
      "source": [
        "#@title [Optional] Pack and upload your music files to your google drive\n",
        "#@markdown # Pack and upload your music files to your google drive\n",
        "#@markdown\n",
        "#@markdown Ensure that there are no nested folders in your zip file, but rather direct audio files.\n",
        "#@markdown\n",
        "\n",
        "from google.colab import drive\n",
        "drive.mount(\"/content/drive\")\n",
        "#@markdown Directory where **your zip file** located in, dont miss the slash at the end.\n",
        "data_dir = \"/content/drive/MyDrive/MSST-WebUI/\"  #@param {type:\"string\"}\n",
        "#@markdown Filename of **your zip file**, for example: \"inputs.zip\"\n",
        "zip_filename = \"input.zip\"  #@param {type:\"string\"}\n",
        "ZIP_PATH = data_dir + zip_filename\n",
        "#@markdown You need to package the audio directly into a zip file, **DO NOT** nest folders in the zip file!\n",
        "#@markdown The compressed file will be extracted to the `input` directory. If there are files in your `input` directory, they will be deleted. Please backup in advance.\n",
        "#@markdown\n",
        "\n",
        "!rm -rf /content/MSST-WebUI/input\n",
        "!mkdir -p /content/MSST-WebUI/input\n",
        "!unzip -od /content/MSST-WebUI/input {ZIP_PATH}"
      ]
    },
    {
      "cell_type": "code",
      "execution_count": null,
      "metadata": {
        "id": "Nd9foENVOZ8H"
      },
      "outputs": [],
      "source": [
        "#@title [Optional] Save results to google drive\n",
        "#@markdown # Save results to google drive\n",
        "#@markdown\n",
        "#@markdown The results audio files in the output directory will be compressed into a zip file and saved to your google drive.\n",
        "#@markdown\n",
        "\n",
        "from google.colab import drive\n",
        "drive.mount(\"/content/drive\")\n",
        "#@markdown Path to save the zip file, dont miss the slash at the end.\n",
        "output_dir = \"/content/drive/MyDrive/MSST-WebUI/\"  #@param {type:\"string\"}\n",
        "#@markdown Filename of the zip file, for example: \"Outputs.zip\"\n",
        "zip_filename = \"Outputs.zip\"  #@param {type:\"string\"}\n",
        "ZIP_PATH = output_dir + zip_filename\n",
        "\n",
        "!mkdir -p {output_dir}\n",
        "!zip -r \"{zip_filename}\" /content/MSST-WebUI/results\n",
        "!cp -vr \"{zip_filename}\" {output_dir}"
      ]
    },
    {
      "cell_type": "code",
      "execution_count": null,
      "metadata": {
        "id": "kKmF57ItOZ8H"
      },
      "outputs": [],
      "source": [
        "#@title [Optional] Delete all result audio files\n",
        "#@markdown # Click to delete all result audio files\n",
        "#@markdown\n",
        "#@markdown ### Warning: Unrecoverable, please operate with caution\n",
        "#@markdown\n",
        "\n",
        "!rm -rf /content/MSST-WebUI/results\n",
        "!mkdir -p /content/MSST-WebUI/results"
      ]
    },
    {
      "cell_type": "code",
      "execution_count": null,
      "metadata": {
        "id": "kmIfgMx0OZ8H"
      },
      "outputs": [],
      "source": [
        "#@title [Optional] Delete all input audio files\n",
        "#@markdown # Click to delete all input audio files\n",
        "#@markdown\n",
        "#@markdown ### Warning: Unrecoverable, please operate with caution\n",
        "#@markdown\n",
        "\n",
        "!rm -rf /content/MSST-WebUI/input\n",
        "!mkdir -p /content/MSST-WebUI/input"
      ]
    },
    {
      "cell_type": "code",
      "execution_count": null,
      "metadata": {
        "id": "sH-EpzDLOZ8H"
      },
      "outputs": [],
      "source": [
        "#@title Initialize and start WebUI\n",
        "#@markdown # Initialize and start WebUI\n",
        "#@markdown\n",
        "#@markdown After running this cell, you can use your own device to connect to WebUI. The public link will be displayed below.\n",
        "#@markdown\n",
        "#@markdown If you want to modify the inference parameters of the preset process, edit the `data/webui_config.json` file.\n",
        "#@markdown\n",
        "\n",
        "%cd /content/MSST-WebUI\n",
        "\n",
        "LANGUAGE = \"English\" #@param [\"Auto\", \"English\", \"简体中文\", \"繁體中文\", \"日本語\", \"😊\", \"한국어\"]\n",
        "MODEL_DOWNLOAD_LINK = \"huggingface.co\" #@param [\"Auto\", \"huggingface.co\", \"hf-mirror.com\"]\n",
        "DEBUG = False #@param {type:\"boolean\"}\n",
        "\n",
        "language_dict = {\"Auto\": \"Auto\", \"简体中文\": \"zh_CN\", \"繁體中文\": \"zh_TW\", \"English\": \"en_US\", \"日本語\": \"ja_JP\", \"😊\": \"emoji\", \"한국어\": \"ko_KR\"}\n",
        "language = language_dict[LANGUAGE]\n",
        "debug = \"--debug\" if DEBUG else \"\"\n",
        "\n",
        "# Start WebUI\n",
        "!python webUI.py --use_cloud --share --language {language} --model_download_link {MODEL_DOWNLOAD_LINK} {debug}"
      ]
    }
  ],
  "metadata": {
    "language_info": {
      "name": "python"
    },
    "colab": {
      "provenance": [],
      "toc_visible": true,
      "gpuType": "T4",
      "include_colab_link": true
    },
    "accelerator": "GPU",
    "kernelspec": {
      "name": "python3",
      "display_name": "Python 3"
    }
  },
  "nbformat": 4,
  "nbformat_minor": 0
}